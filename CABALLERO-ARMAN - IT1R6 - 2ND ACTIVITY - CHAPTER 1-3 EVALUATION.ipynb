{
 "cells": [
  {
   "cell_type": "code",
   "execution_count": 2,
   "id": "least-zambia",
   "metadata": {},
   "outputs": [
    {
     "name": "stdout",
     "output_type": "stream",
     "text": [
      "Discuss your learning on Chapter 1 time free 35:00 - end. Minimum of 200 characters\n"
     ]
    }
   ],
   "source": [
    "print (\"Discuss your learning on Chapter 1 time free 35:00 - end. Minimum of 200 characters\")"
   ]
  },
  {
   "cell_type": "code",
   "execution_count": 1,
   "id": "regular-wildlife",
   "metadata": {},
   "outputs": [
    {
     "name": "stdout",
     "output_type": "stream",
     "text": [
      "Chapter 1 learnings are folliwing:\n"
     ]
    }
   ],
   "source": [
    "print (\"Chapter 1 learnings are folliwing:\")"
   ]
  },
  {
   "cell_type": "code",
   "execution_count": 3,
   "id": "appropriate-warehouse",
   "metadata": {},
   "outputs": [
    {
     "name": "stdout",
     "output_type": "stream",
     "text": [
      "I learned on this chapter 1 is how to characterized the data structures. First, The interface is a set of operation that a data structures support.\n",
      "Also is a type of parameter they can accept and return type of operations. Second, the implementation on data structures based on the ability of computer fetch and store data\n",
      "or any place in its memory.\n",
      "Also i learned how to analyzed the two deffirent stages. before implementation and after implementation. They are the following:\n",
      "A priori analysis, this is one of the theoritical analysis of an algorithm. Efficiency of an algorithm is measured by assuming that all other factors (example:Processsor speed)\n",
      "A posterior analysis, This is an empirical analysis of an algorithm. Also this is implemented using programming language. In this analysis, actual statistics like running time and space are required.\n",
      "I learned about the two main factors of algorithm complexity. First is time factcr, which is measured by counting the numbers of key operation\n",
      "and second is the space factor in which measured by counting maximum memory space. Also, I learned about the two components space complexity\n",
      "which are the fixed part and variable part. These are the parts that is a space required to store certain data and variables and whose size depends on the sized of the problem.\n",
      "Lastly, I also learned about the time complexity of an algorithm, this is the amount of time taken by an algorithm to run, as a function of the length of the input.\n"
     ]
    }
   ],
   "source": [
    "print (\"I learned on this chapter 1 is how to characterized the data structures. First, The interface is a set of operation that a data structures support.\")\n",
    "print (\"Also is a type of parameter they can accept and return type of operations. Second, the implementation on data structures based on the ability of computer fetch and store data\")\n",
    "print (\"or any place in its memory.\")\n",
    "print (\"Also i learned how to analyzed the two deffirent stages. before implementation and after implementation. They are the following:\")\n",
    "print (\"A priori analysis, this is one of the theoritical analysis of an algorithm. Efficiency of an algorithm is measured by assuming that all other factors (example:Processsor speed)\")\n",
    "print (\"A posterior analysis, This is an empirical analysis of an algorithm. Also this is implemented using programming language. In this analysis, actual statistics like running time and space are required.\")\n",
    "print (\"I learned about the two main factors of algorithm complexity. First is time factcr, which is measured by counting the numbers of key operation\")\n",
    "print (\"and second is the space factor in which measured by counting maximum memory space. Also, I learned about the two components space complexity\")\n",
    "print (\"which are the fixed part and variable part. These are the parts that is a space required to store certain data and variables and whose size depends on the sized of the problem.\")\n",
    "print (\"Lastly, I also learned about the time complexity of an algorithm, this is the amount of time taken by an algorithm to run, as a function of the length of the input.\")\n",
    "\n"
   ]
  },
  {
   "cell_type": "code",
   "execution_count": 4,
   "id": "color-madness",
   "metadata": {},
   "outputs": [
    {
     "name": "stdout",
     "output_type": "stream",
     "text": [
      "Discuss your learning on Chapter 2 time free 35:00 - end. Minimum of 200 characters\n"
     ]
    }
   ],
   "source": [
    "print (\"Discuss your learning on Chapter 2 time free 35:00 - end. Minimum of 200 characters\")"
   ]
  },
  {
   "cell_type": "code",
   "execution_count": 5,
   "id": "general-capacity",
   "metadata": {},
   "outputs": [
    {
     "name": "stdout",
     "output_type": "stream",
     "text": [
      "Chapter 2 learnings are folliwing:\n"
     ]
    }
   ],
   "source": [
    "print (\"Chapter 2 learnings are folliwing:\")"
   ]
  },
  {
   "cell_type": "code",
   "execution_count": 6,
   "id": "sacred-dallas",
   "metadata": {},
   "outputs": [
    {
     "name": "stdout",
     "output_type": "stream",
     "text": [
      "I learned about chapter 2 lesson of the data structure basics concept is the two data type.\n",
      "first is the Built - in Data type and second the Derived Data type.\n",
      "In Built - in Data type is a set of operation defined on them.\n",
      "for example: Boolean (true, false),\n",
      "Floating (Decimal Number or (3.470, 4.65)),\n",
      "and Charaters and Strings (examle: Korea)\n",
      "Second,The Derived Data Type is a data type which it can be implemented in one or the other way\n",
      "such as List, Array, Stack, Queue. In programming world, There is so many basic operation that can help you\n",
      "This is the Tranversing, Searching, Insertion, Updating, Deletion, Sorting, and Merging.\n",
      "In tranversing means to visit the element stored in it. Second the Searching means to find a particulare element in the given data structure\n",
      "Third is Insertion means it is operation which we can apply on all the data structures or to add an element in the given data\n",
      "Fourth the deletion means to delete an element the given data structures. Fifth, we have sorting, means to sort. Sixth, merging, means to merge.\n",
      "And lastly the updating, means updating an existing element from the array at the given index.\n"
     ]
    }
   ],
   "source": [
    "print(\"I learned about chapter 2 lesson of the data structure basics concept is the two data type.\")\n",
    "print(\"first is the Built - in Data type and second the Derived Data type.\")\n",
    "print (\"In Built - in Data type is a set of operation defined on them.\") \n",
    "print (\"for example: Boolean (true, false),\")\n",
    "print (\"Floating (Decimal Number or (3.470, 4.65)),\")\n",
    "print (\"and Charaters and Strings (examle: Korea)\")\n",
    "\n",
    "print (\"Second,The Derived Data Type is a data type which it can be implemented in one or the other way\")\n",
    "print (\"such as List, Array, Stack, Queue. In programming world, There is so many basic operation that can help you\")\n",
    "print (\"This is the Tranversing, Searching, Insertion, Updating, Deletion, Sorting, and Merging.\")\n",
    "print (\"In tranversing means to visit the element stored in it. Second the Searching means to find a particulare element in the given data structure\")\n",
    "print (\"Third is Insertion means it is operation which we can apply on all the data structures or to add an element in the given data\")\n",
    "print (\"Fourth the deletion means to delete an element the given data structures. Fifth, we have sorting, means to sort. Sixth, merging, means to merge.\")\n",
    "print (\"And lastly the updating, means updating an existing element from the array at the given index.\")"
   ]
  },
  {
   "cell_type": "code",
   "execution_count": 7,
   "id": "written-mountain",
   "metadata": {},
   "outputs": [
    {
     "name": "stdout",
     "output_type": "stream",
     "text": [
      "Discuss your learning on Chapter 3 time free 35:00 - end. Minimum of 200 characters\n"
     ]
    }
   ],
   "source": [
    "print (\"Discuss your learning on Chapter 3 time free 35:00 - end. Minimum of 200 characters\")"
   ]
  },
  {
   "cell_type": "code",
   "execution_count": 8,
   "id": "about-boating",
   "metadata": {},
   "outputs": [
    {
     "name": "stdout",
     "output_type": "stream",
     "text": [
      "Chapter 3 learnings are folliwing:\n"
     ]
    }
   ],
   "source": [
    "print (\"Chapter 3 learnings are folliwing:\")"
   ]
  },
  {
   "cell_type": "code",
   "execution_count": 9,
   "id": "romance-practice",
   "metadata": {},
   "outputs": [
    {
     "name": "stdout",
     "output_type": "stream",
     "text": [
      "what I have learned from data structures subject is that Array is collection of same data type items stored in contiguous memory location.\n",
      "For example, if an array is of type 'int', it can only store integer elements and cannot allow the elements of other type such as double, float char etc.\n",
      "Also I learned about the Array Representation is the parts of array. There is type, name, size, elements, and index.\n",
      "Index means location of an items. Elements means to store some values depends on size. Like what i saw in the ptresentation or discussion\n",
      "that the index can be countable and location of the numbers and it is list of data, such as group of files or database entries.\n",
      "It is typically saved in plain in text format that can be quickly scanned by a search algorithm, Also i learned the basic operation, accessing array operation\n",
      "insertion operation, deletion operation and lastly the update operation in array\n"
     ]
    }
   ],
   "source": [
    "print (\"what I have learned from data structures subject is that Array is collection of same data type items stored in contiguous memory location.\")\n",
    "print (\"For example, if an array is of type 'int', it can only store integer elements and cannot allow the elements of other type such as double, float char etc.\")\n",
    "print (\"Also I learned about the Array Representation is the parts of array. There is type, name, size, elements, and index.\")\n",
    "print (\"Index means location of an items. Elements means to store some values depends on size. Like what i saw in the ptresentation or discussion\")\n",
    "print (\"that the index can be countable and location of the numbers and it is list of data, such as group of files or database entries.\")\n",
    "print (\"It is typically saved in plain in text format that can be quickly scanned by a search algorithm, Also i learned the basic operation, accessing array operation\")\n",
    "print (\"insertion operation, deletion operation and lastly the update operation in array\")"
   ]
  },
  {
   "cell_type": "code",
   "execution_count": 10,
   "id": "north-limitation",
   "metadata": {},
   "outputs": [
    {
     "name": "stdout",
     "output_type": "stream",
     "text": [
      "6.0\n",
      "13.0\n",
      "20.0\n",
      "28.0\n",
      "36.0\n",
      "679.0\n",
      "50.0\n",
      "74.0\n"
     ]
    }
   ],
   "source": [
    "from array import *\n",
    "arrayName = array ('f', [6,13,20,28,36,45,50,74])\n",
    "arrayName.insert(5,412)\n",
    "arrayName.remove(45)\n",
    "arrayName[5] = 679\n",
    "for x in arrayName:\n",
    "    print(x)"
   ]
  },
  {
   "cell_type": "code",
   "execution_count": null,
   "id": "available-female",
   "metadata": {},
   "outputs": [],
   "source": []
  }
 ],
 "metadata": {
  "kernelspec": {
   "display_name": "Python 3",
   "language": "python",
   "name": "python3"
  },
  "language_info": {
   "codemirror_mode": {
    "name": "ipython",
    "version": 3
   },
   "file_extension": ".py",
   "mimetype": "text/x-python",
   "name": "python",
   "nbconvert_exporter": "python",
   "pygments_lexer": "ipython3",
   "version": "3.8.6"
  }
 },
 "nbformat": 4,
 "nbformat_minor": 5
}
